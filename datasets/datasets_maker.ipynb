{
 "cells": [
  {
   "cell_type": "code",
   "execution_count": 1,
   "metadata": {},
   "outputs": [],
   "source": [
    "import pandas as pd"
   ]
  },
  {
   "cell_type": "code",
   "execution_count": 2,
   "metadata": {},
   "outputs": [],
   "source": [
    "path = '/Users/phamvanmanh/sentiment-analysis-vietnamese/datasets/origin_data/train.csv'\n",
    "train_datasets = pd.read_csv(path)"
   ]
  },
  {
   "cell_type": "code",
   "execution_count": 3,
   "metadata": {},
   "outputs": [],
   "source": [
    "train_datasets[:10000].to_csv('/Users/phamvanmanh/Documents/GitHub/sentiment-analysis-vietnamese/datasets/test_v2/train.csv')"
   ]
  },
  {
   "cell_type": "code",
   "execution_count": 4,
   "metadata": {},
   "outputs": [],
   "source": [
    "path = '/Users/phamvanmanh/sentiment-analysis-vietnamese/datasets/origin_data/test.csv'\n",
    "test_datasets = pd.read_csv(path)\n",
    "test_datasets[:10000].to_csv('/Users/phamvanmanh/Documents/GitHub/sentiment-analysis-vietnamese/datasets/test_v2/test.csv')"
   ]
  }
 ],
 "metadata": {
  "interpreter": {
   "hash": "390b635d4e07936c7b8056c02d7b44b29e6b4272947d0c0f683ff8a6f3b6f12a"
  },
  "kernelspec": {
   "display_name": "Python 3.10.1 ('.venv')",
   "language": "python",
   "name": "python3"
  },
  "language_info": {
   "codemirror_mode": {
    "name": "ipython",
    "version": 3
   },
   "file_extension": ".py",
   "mimetype": "text/x-python",
   "name": "python",
   "nbconvert_exporter": "python",
   "pygments_lexer": "ipython3",
   "version": "3.8.12"
  },
  "orig_nbformat": 4
 },
 "nbformat": 4,
 "nbformat_minor": 2
}
