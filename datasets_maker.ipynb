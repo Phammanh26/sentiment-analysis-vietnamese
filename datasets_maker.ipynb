{
 "cells": [
  {
   "cell_type": "code",
   "execution_count": null,
   "metadata": {},
   "outputs": [],
   "source": [
    "from processing.CleanData import CleanData\n"
   ]
  },
  {
   "cell_type": "code",
   "execution_count": 7,
   "metadata": {},
   "outputs": [],
   "source": [
    "from tensorflow.keras.preprocessing.sequence import pad_sequences\n",
    "from tensorflow.keras.preprocessing.text import one_hot\n",
    "from sklearn.model_selection import train_test_split\n",
    "import numpy as np\n",
    "import pandas as pd"
   ]
  },
  {
   "cell_type": "code",
   "execution_count": 4,
   "metadata": {},
   "outputs": [],
   "source": [
    "path = '/Users/phamvanmanh/sentiment-analysis-vietnamese/datasets/origin_data/train.csv'\n",
    "train_datasets = pd.read_csv(path)"
   ]
  },
  {
   "cell_type": "code",
   "execution_count": 6,
   "metadata": {},
   "outputs": [],
   "source": []
  },
  {
   "cell_type": "code",
   "execution_count": 9,
   "metadata": {},
   "outputs": [],
   "source": [
    "def makeDataset(datasets, max_lenght = 70, vocabsize = 30000):\n",
    "\n",
    "    clean_data = CleanData()\n",
    "\n",
    "    x = datasets['sentence'].values.tolist()\n",
    "    y = datasets['label'].values.tolist()\n",
    "\n",
    "    new_y = [1 if i == 'pos' else 0 for i in y]\n",
    "    new_x = clean_data.processing_list_text(x)\n",
    "\n",
    "\n",
    "    new_x_onehot=[one_hot(words,vocabsize)for words in new_x]\n",
    "    new_x__embed=np.array(pad_sequences(new_x_onehot,padding='post',maxlen=max_lenght))\n",
    "    return new_x__embed, new_y\n"
   ]
  }
 ],
 "metadata": {
  "interpreter": {
   "hash": "390b635d4e07936c7b8056c02d7b44b29e6b4272947d0c0f683ff8a6f3b6f12a"
  },
  "kernelspec": {
   "display_name": "Python 3.10.1 ('.venv')",
   "language": "python",
   "name": "python3"
  },
  "language_info": {
   "codemirror_mode": {
    "name": "ipython",
    "version": 3
   },
   "file_extension": ".py",
   "mimetype": "text/x-python",
   "name": "python",
   "nbconvert_exporter": "python",
   "pygments_lexer": "ipython3",
   "version": "3.8.5"
  },
  "orig_nbformat": 4
 },
 "nbformat": 4,
 "nbformat_minor": 2
}
